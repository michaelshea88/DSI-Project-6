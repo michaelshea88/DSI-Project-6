{
 "cells": [
  {
   "cell_type": "markdown",
   "metadata": {},
   "source": [
    "# Project 6: IMDB\n",
    "\n",
    "This project involves NLP, decision trees, bagging, boosting, and more!\n",
    "\n",
    "---"
   ]
  },
  {
   "cell_type": "markdown",
   "metadata": {},
   "source": [
    "## Load packages\n",
    "\n",
    "You are likely going to need to install the `imdbpie` package:\n",
    "\n",
    "    > pip install imdbpie\n",
    "\n",
    "---"
   ]
  },
  {
   "cell_type": "code",
   "execution_count": 1,
   "metadata": {
    "collapsed": false
   },
   "outputs": [],
   "source": [
    "# import os\n",
    "# import subprocess\n",
    "# import collections\n",
    "# import re\n",
    "# import csv\n",
    "# import json\n",
    "\n",
    "import pandas as pd\n",
    "import numpy as np\n",
    "import scipy\n",
    "\n",
    "from sklearn.ensemble import RandomForestClassifier\n",
    "from sklearn.ensemble import RandomForestRegressor\n",
    "\n",
    "# import psycopg2\n",
    "# import requests\n",
    "# from imdbpie import Imdb\n",
    "\n",
    "# import urllib\n",
    "# from bs4 import BeautifulSoup\n",
    "# import nltk\n",
    "\n",
    "import matplotlib.pyplot as plt\n",
    "import seaborn as sns\n",
    "\n",
    "%matplotlib inline"
   ]
  },
  {
   "cell_type": "markdown",
   "metadata": {},
   "source": [
    "---\n",
    "\n",
    "## Part 1: Acquire the Data\n",
    "\n",
    "You will connect to the IMDB API to query for movies. \n",
    "\n",
    "See here for documentation on how to use the package:\n",
    "\n",
    "https://github.com/richardasaurus/imdb-pie"
   ]
  },
  {
   "cell_type": "markdown",
   "metadata": {},
   "source": [
    "#### 1. Connect to the IMDB API"
   ]
  },
  {
   "cell_type": "code",
   "execution_count": 16,
   "metadata": {
    "collapsed": true
   },
   "outputs": [],
   "source": [
    "imdb = Imdb()\n",
    "imdb = Imdb(anonymize=True)\n",
    "imdb = Imdb(cache=True)"
   ]
  },
  {
   "cell_type": "markdown",
   "metadata": {},
   "source": [
    "#### 2. Query the top 250 rated movies in the database"
   ]
  },
  {
   "cell_type": "code",
   "execution_count": 17,
   "metadata": {
    "collapsed": false
   },
   "outputs": [],
   "source": [
    "top_250 = imdb.top_250()"
   ]
  },
  {
   "cell_type": "markdown",
   "metadata": {},
   "source": [
    "#### 3. Make a dataframe from the movie data\n",
    "\n",
    "Keep the fields:\n",
    "\n",
    "    num_votes\n",
    "    rating\n",
    "    tconst\n",
    "    title\n",
    "    year\n",
    "    \n",
    "And discard the rest"
   ]
  },
  {
   "cell_type": "code",
   "execution_count": 18,
   "metadata": {
    "collapsed": false,
    "scrolled": true
   },
   "outputs": [
    {
     "data": {
      "text/plain": [
       "list"
      ]
     },
     "execution_count": 18,
     "metadata": {},
     "output_type": "execute_result"
    }
   ],
   "source": [
    "# check type\n",
    "\n",
    "type(top_250)"
   ]
  },
  {
   "cell_type": "code",
   "execution_count": 19,
   "metadata": {
    "collapsed": false
   },
   "outputs": [
    {
     "data": {
      "text/plain": [
       "{u'can_rate': True,\n",
       " u'image': {u'height': 1388,\n",
       "  u'url': u'http://ia.media-imdb.com/images/M/MV5BODU4MjU4NjIwNl5BMl5BanBnXkFtZTgwMDU2MjEyMDE@._V1_.jpg',\n",
       "  u'width': 933},\n",
       " u'num_votes': 1660702,\n",
       " u'rating': 9.3,\n",
       " u'tconst': u'tt0111161',\n",
       " u'title': u'The Shawshank Redemption',\n",
       " u'type': u'feature',\n",
       " u'year': u'1994'}"
      ]
     },
     "execution_count": 19,
     "metadata": {},
     "output_type": "execute_result"
    }
   ],
   "source": [
    "# view json\n",
    "\n",
    "top_250[0]"
   ]
  },
  {
   "cell_type": "code",
   "execution_count": 20,
   "metadata": {
    "collapsed": false
   },
   "outputs": [],
   "source": [
    "# pull select contents of json into a dictionary for dataframe transformation\n",
    "\n",
    "dict_for_df = {}\n",
    "titles = []\n",
    "num_votes = []\n",
    "ratings = []\n",
    "tconst = []\n",
    "years = []\n",
    "for i in top_250:\n",
    "    titles.append(i['title'])\n",
    "    num_votes.append(i['num_votes'])\n",
    "    ratings.append(i['rating'])\n",
    "    tconst.append(i['tconst'])\n",
    "    years.append(i['year'])\n",
    "\n",
    "dict_for_df.update({'title': titles, 'num_votes': num_votes, 'rating': ratings, 'tconst': tconst, 'year': years})\n"
   ]
  },
  {
   "cell_type": "code",
   "execution_count": 21,
   "metadata": {
    "collapsed": true
   },
   "outputs": [],
   "source": [
    "# create dataframe\n",
    "\n",
    "df = pd.DataFrame(dict_for_df)"
   ]
  },
  {
   "cell_type": "markdown",
   "metadata": {},
   "source": [
    "#### 3. Select only the top 100 movies"
   ]
  },
  {
   "cell_type": "code",
   "execution_count": 22,
   "metadata": {
    "collapsed": false
   },
   "outputs": [
    {
     "data": {
      "text/plain": [
       "(100, 5)"
      ]
     },
     "execution_count": 22,
     "metadata": {},
     "output_type": "execute_result"
    }
   ],
   "source": [
    "# select top 100 by sorting values of rating\n",
    "\n",
    "df.sort_values(by='rating', ascending=False, inplace=True)\n",
    "\n",
    "top_hund = df.iloc[:100,:]\n",
    "top_hund.shape"
   ]
  },
  {
   "cell_type": "code",
   "execution_count": 23,
   "metadata": {
    "collapsed": false
   },
   "outputs": [
    {
     "data": {
      "text/html": [
       "<div>\n",
       "<table border=\"1\" class=\"dataframe\">\n",
       "  <thead>\n",
       "    <tr style=\"text-align: right;\">\n",
       "      <th></th>\n",
       "      <th>num_votes</th>\n",
       "      <th>rating</th>\n",
       "      <th>tconst</th>\n",
       "      <th>title</th>\n",
       "      <th>year</th>\n",
       "    </tr>\n",
       "  </thead>\n",
       "  <tbody>\n",
       "    <tr>\n",
       "      <th>0</th>\n",
       "      <td>1660702</td>\n",
       "      <td>9.3</td>\n",
       "      <td>tt0111161</td>\n",
       "      <td>The Shawshank Redemption</td>\n",
       "      <td>1994</td>\n",
       "    </tr>\n",
       "  </tbody>\n",
       "</table>\n",
       "</div>"
      ],
      "text/plain": [
       "   num_votes  rating     tconst                     title  year\n",
       "0    1660702     9.3  tt0111161  The Shawshank Redemption  1994"
      ]
     },
     "execution_count": 23,
     "metadata": {},
     "output_type": "execute_result"
    }
   ],
   "source": [
    "# view one row\n",
    "\n",
    "top_hund[top_hund.title == 'The Shawshank Redemption']"
   ]
  },
  {
   "cell_type": "code",
   "execution_count": 44,
   "metadata": {
    "collapsed": false
   },
   "outputs": [
    {
     "data": {
      "text/plain": [
       "100"
      ]
     },
     "execution_count": 44,
     "metadata": {},
     "output_type": "execute_result"
    }
   ],
   "source": [
    "top_hund.title.nunique()"
   ]
  },
  {
   "cell_type": "markdown",
   "metadata": {},
   "source": [
    "#### 4. Get the genres and runtime for each movie and add them to the dataframe\n",
    "\n",
    "There can be multiple genres per movie, so this will need some finessing."
   ]
  },
  {
   "cell_type": "code",
   "execution_count": 24,
   "metadata": {
    "collapsed": false,
    "scrolled": true
   },
   "outputs": [],
   "source": [
    "# use OMDB API to pull genre and runtime\n",
    "\n",
    "list_runtime = []\n",
    "list_genre = []\n",
    "for entry in top_hund.tconst:\n",
    "    requ = requests.get('http://www.omdbapi.com/?i='+entry)\n",
    "    requ_json = json.loads(requ.text)\n",
    "    list_runtime.append(requ_json['Runtime'])\n",
    "    list_genre.append(requ_json['Genre'])"
   ]
  },
  {
   "cell_type": "code",
   "execution_count": 25,
   "metadata": {
    "collapsed": false
   },
   "outputs": [
    {
     "name": "stderr",
     "output_type": "stream",
     "text": [
      "/Users/michaelshea/anaconda/lib/python2.7/site-packages/pandas/core/indexing.py:284: SettingWithCopyWarning: \n",
      "A value is trying to be set on a copy of a slice from a DataFrame.\n",
      "Try using .loc[row_indexer,col_indexer] = value instead\n",
      "\n",
      "See the caveats in the documentation: http://pandas.pydata.org/pandas-docs/stable/indexing.html#indexing-view-versus-copy\n",
      "  self.obj[key] = _infer_fill_value(value)\n",
      "/Users/michaelshea/anaconda/lib/python2.7/site-packages/pandas/core/indexing.py:461: SettingWithCopyWarning: \n",
      "A value is trying to be set on a copy of a slice from a DataFrame.\n",
      "Try using .loc[row_indexer,col_indexer] = value instead\n",
      "\n",
      "See the caveats in the documentation: http://pandas.pydata.org/pandas-docs/stable/indexing.html#indexing-view-versus-copy\n",
      "  self.obj[item] = s\n"
     ]
    }
   ],
   "source": [
    "# add genre and runtime to top hundred dataframe\n",
    "\n",
    "genre_series = pd.Series(list_genre, index=top_hund.index).str.split(', ')\n",
    "top_hund.ix[:,'genre'] = genre_series\n",
    "\n",
    "runtime_series = pd.Series(list_runtime, index=top_hund.index).str.strip(' min')\n",
    "top_hund.ix[:, 'runtime'] = runtime_series"
   ]
  },
  {
   "cell_type": "code",
   "execution_count": 26,
   "metadata": {
    "collapsed": false
   },
   "outputs": [],
   "source": [
    "# split genre column into dummy columns\n",
    "\n",
    "dummy_df = pd.get_dummies(top_hund.genre.apply(pd.Series).stack()).sum(level=0)\n",
    "\n",
    "top_hund = top_hund.join(dummy_df)"
   ]
  },
  {
   "cell_type": "markdown",
   "metadata": {},
   "source": [
    "*Note: Above I created a separate column for each genre*"
   ]
  },
  {
   "cell_type": "markdown",
   "metadata": {},
   "source": [
    "#### 4. Write the Results to a csv"
   ]
  },
  {
   "cell_type": "code",
   "execution_count": 21,
   "metadata": {
    "collapsed": false
   },
   "outputs": [],
   "source": [
    "# use to_csv\n",
    "\n",
    "top_hund.to_csv('top_hund', encoding='utf-8')"
   ]
  },
  {
   "cell_type": "markdown",
   "metadata": {},
   "source": [
    "---\n",
    "\n",
    "## Part 2: Wrangle the text data"
   ]
  },
  {
   "cell_type": "markdown",
   "metadata": {},
   "source": [
    "#### 1. Scrape the reviews for the top 100 movies"
   ]
  },
  {
   "cell_type": "markdown",
   "metadata": {},
   "source": [
    "*Hint*: Use a loop to scrape each page at once\n",
    "\n",
    "__NOTE: I used the API, rather than scrape__"
   ]
  },
  {
   "cell_type": "code",
   "execution_count": 105,
   "metadata": {
    "collapsed": false
   },
   "outputs": [],
   "source": [
    "# Generate lists of review text and ratings\n",
    "rev_text = []\n",
    "rev_rating = []\n",
    "movie_id = []\n",
    "\n",
    "# The below two lines of code are from stack overflow, help removing non-aphanums from unicode\n",
    "translation_table = dict.fromkeys(map(ord, \"*!')(@#$-\"), None)\n",
    "# this line may no longer be needed: unicode_line = unicode_line.translate(translation_table)\n",
    "\n",
    "for id in top_hund.tconst:\n",
    "    reviews = imdb.get_title_reviews(id, max_results=250)\n",
    "    for i in reviews:\n",
    "        rev_text.append((i.text.translate(translation_table)).lower())\n",
    "        rev_rating.append(i.rating)\n",
    "        movie_id.append(id)"
   ]
  },
  {
   "cell_type": "code",
   "execution_count": 106,
   "metadata": {
    "collapsed": false
   },
   "outputs": [
    {
     "data": {
      "text/plain": [
       "24403"
      ]
     },
     "execution_count": 106,
     "metadata": {},
     "output_type": "execute_result"
    }
   ],
   "source": [
    "len(rev_rating)"
   ]
  },
  {
   "cell_type": "code",
   "execution_count": 107,
   "metadata": {
    "collapsed": false
   },
   "outputs": [
    {
     "data": {
      "text/plain": [
       "24403"
      ]
     },
     "execution_count": 107,
     "metadata": {},
     "output_type": "execute_result"
    }
   ],
   "source": [
    "len(rev_text)"
   ]
  },
  {
   "cell_type": "code",
   "execution_count": 108,
   "metadata": {
    "collapsed": false
   },
   "outputs": [
    {
     "data": {
      "text/plain": [
       "24403"
      ]
     },
     "execution_count": 108,
     "metadata": {},
     "output_type": "execute_result"
    }
   ],
   "source": [
    "len(movie_id)"
   ]
  },
  {
   "cell_type": "code",
   "execution_count": 109,
   "metadata": {
    "collapsed": false
   },
   "outputs": [
    {
     "data": {
      "text/plain": [
       "unicode"
      ]
     },
     "execution_count": 109,
     "metadata": {},
     "output_type": "execute_result"
    }
   ],
   "source": [
    "type(rev_text[0])"
   ]
  },
  {
   "cell_type": "code",
   "execution_count": 110,
   "metadata": {
    "collapsed": false
   },
   "outputs": [
    {
     "data": {
      "text/plain": [
       "u'why do i want to write the 234th comment on the shawshank redemption? i am not sure  almost everything that could be possibly said about it has been said. but like so many other people who wrote comments, i was and am profoundly moved by this simple and eloquent depiction of hope and friendship and redemption. \\n\\nthe only other movie i have ever seen that effects me as strongly is to kill a mockingbird. both movies leave me feeling cleaner for having watched them.\\n\\ni didnt intend to see this movie at all: i do not like prison movies and i dont normally watch them. i work at a branch library and one day as i was checking the shawshank redemption out to one of our older patrons, she said to me, \"whenever i feel down or depressed, i check out this movie and watch it and it always makes me feel better.\" at the time, i thought that was very strange. one day there was nothing on tv except things i absolutely would not watch under any circumstance or things that i had seen too many times already. i remembered what she said, so i watched it. i have watched it many many times since then and it gets better with every showing.\\n\\nno action, no special effects  just men in prison uniforms talking to each other.\\n\\nthe shawshank redemption and to kill a mockingbird are the best movies i have ever seen. i do not judge it by its technical merits  i dont really care about that. i have read that citizen kane or the godfather or this or that movie is the best movie ever made. they may have the best technique or be the most influential motion pictures ever made, but not the best. the best movies are ones that touch the soul. it takes a movie like the shawshank redemption to touch the soul.'"
      ]
     },
     "execution_count": 110,
     "metadata": {},
     "output_type": "execute_result"
    }
   ],
   "source": [
    "# view single review\n",
    "\n",
    "rev_text[0]"
   ]
  },
  {
   "cell_type": "markdown",
   "metadata": {},
   "source": [
    "#### 2. Extract the reviews and the rating per review for each movie\n",
    "\n",
    "*Note*: \"soup\" from BeautifulSoup is the html returned from all 25 pages. You'll need to either address each page individually or break them down by elements."
   ]
  },
  {
   "cell_type": "markdown",
   "metadata": {
    "collapsed": false
   },
   "source": [
    "##### **done above using API**"
   ]
  },
  {
   "cell_type": "markdown",
   "metadata": {},
   "source": [
    "#### 3. Remove the non AlphaNumeric characters from reviews"
   ]
  },
  {
   "cell_type": "markdown",
   "metadata": {
    "collapsed": false
   },
   "source": [
    "##### done above in for loop (block 105)"
   ]
  },
  {
   "cell_type": "code",
   "execution_count": 113,
   "metadata": {
    "collapsed": true
   },
   "outputs": [],
   "source": [
    "# create empty dataframe called reviews_df\n",
    "\n",
    "reviews_df = pd.DataFrame()"
   ]
  },
  {
   "cell_type": "code",
   "execution_count": 114,
   "metadata": {
    "collapsed": true
   },
   "outputs": [],
   "source": [
    "# add movie_id, rev_rating, rev_text\n",
    "\n",
    "reviews_df['movie_id'] = movie_id\n",
    "reviews_df['review_rating'] = rev_rating\n",
    "reviews_df['review_text'] = rev_text"
   ]
  },
  {
   "cell_type": "code",
   "execution_count": 115,
   "metadata": {
    "collapsed": true
   },
   "outputs": [],
   "source": [
    "# slice out column with review text (prep for vectorizer)\n",
    "\n",
    "just_text = reviews_df.review_text"
   ]
  },
  {
   "cell_type": "code",
   "execution_count": 121,
   "metadata": {
    "collapsed": false
   },
   "outputs": [
    {
     "data": {
      "text/html": [
       "<div>\n",
       "<table border=\"1\" class=\"dataframe\">\n",
       "  <thead>\n",
       "    <tr style=\"text-align: right;\">\n",
       "      <th></th>\n",
       "      <th>movie_id</th>\n",
       "      <th>review_rating</th>\n",
       "      <th>review_text</th>\n",
       "    </tr>\n",
       "  </thead>\n",
       "  <tbody>\n",
       "    <tr>\n",
       "      <th>0</th>\n",
       "      <td>tt0111161</td>\n",
       "      <td>10.0</td>\n",
       "      <td>why do i want to write the 234th comment on th...</td>\n",
       "    </tr>\n",
       "    <tr>\n",
       "      <th>1</th>\n",
       "      <td>tt0111161</td>\n",
       "      <td>10.0</td>\n",
       "      <td>\\ncan hollywood, usually creating things for e...</td>\n",
       "    </tr>\n",
       "    <tr>\n",
       "      <th>2</th>\n",
       "      <td>tt0111161</td>\n",
       "      <td>NaN</td>\n",
       "      <td>\\ni have never seen such an amazing film since...</td>\n",
       "    </tr>\n",
       "    <tr>\n",
       "      <th>3</th>\n",
       "      <td>tt0111161</td>\n",
       "      <td>10.0</td>\n",
       "      <td>in its oscar year, shawshank redemption writte...</td>\n",
       "    </tr>\n",
       "    <tr>\n",
       "      <th>4</th>\n",
       "      <td>tt0111161</td>\n",
       "      <td>NaN</td>\n",
       "      <td>the reason i became a member of this database ...</td>\n",
       "    </tr>\n",
       "  </tbody>\n",
       "</table>\n",
       "</div>"
      ],
      "text/plain": [
       "    movie_id  review_rating                                        review_text\n",
       "0  tt0111161           10.0  why do i want to write the 234th comment on th...\n",
       "1  tt0111161           10.0  \\ncan hollywood, usually creating things for e...\n",
       "2  tt0111161            NaN  \\ni have never seen such an amazing film since...\n",
       "3  tt0111161           10.0  in its oscar year, shawshank redemption writte...\n",
       "4  tt0111161            NaN  the reason i became a member of this database ..."
      ]
     },
     "execution_count": 121,
     "metadata": {},
     "output_type": "execute_result"
    }
   ],
   "source": [
    "reviews_df.head()"
   ]
  },
  {
   "cell_type": "markdown",
   "metadata": {},
   "source": [
    "#### 4. Calculate the top 200 ngrams from the user reviews\n",
    "\n",
    "Use the `TfidfVectorizer` in sklearn.\n",
    "\n",
    "Recommended parameters:\n",
    "\n",
    "    ngram_range = (1, 2)\n",
    "    stop_words = 'english'\n",
    "    binary = False\n",
    "    max_features = 200"
   ]
  },
  {
   "cell_type": "code",
   "execution_count": 118,
   "metadata": {
    "collapsed": false
   },
   "outputs": [],
   "source": [
    "# Use TfidVectorizer with arguments listed above\n",
    "\n",
    "from sklearn.feature_extraction.text import TfidfVectorizer\n",
    "\n",
    "vectorizer = TfidfVectorizer(ngram_range = (1, 2), stop_words = 'english', binary = False, max_features = 200)\n"
   ]
  },
  {
   "cell_type": "code",
   "execution_count": 119,
   "metadata": {
    "collapsed": false
   },
   "outputs": [
    {
     "data": {
      "text/plain": [
       "TfidfVectorizer(analyzer=u'word', binary=False, decode_error=u'strict',\n",
       "        dtype=<type 'numpy.int64'>, encoding=u'utf-8', input=u'content',\n",
       "        lowercase=True, max_df=1.0, max_features=200, min_df=1,\n",
       "        ngram_range=(1, 2), norm=u'l2', preprocessor=None, smooth_idf=True,\n",
       "        stop_words='english', strip_accents=None, sublinear_tf=False,\n",
       "        token_pattern=u'(?u)\\\\b\\\\w\\\\w+\\\\b', tokenizer=None, use_idf=True,\n",
       "        vocabulary=None)"
      ]
     },
     "execution_count": 119,
     "metadata": {},
     "output_type": "execute_result"
    }
   ],
   "source": [
    "# Fit on review text\n",
    "\n",
    "vectorizer.fit(just_text)"
   ]
  },
  {
   "cell_type": "code",
   "execution_count": 120,
   "metadata": {
    "collapsed": true
   },
   "outputs": [],
   "source": [
    "# Transform into dense matrix\n",
    "\n",
    "ngram_df = pd.DataFrame(vectorizer.transform(just_text).todense(),\n",
    "             columns=vectorizer.get_feature_names(), index = reviews_df.index.values)"
   ]
  },
  {
   "cell_type": "code",
   "execution_count": 122,
   "metadata": {
    "collapsed": false
   },
   "outputs": [
    {
     "data": {
      "text/html": [
       "<div>\n",
       "<table border=\"1\" class=\"dataframe\">\n",
       "  <thead>\n",
       "    <tr style=\"text-align: right;\">\n",
       "      <th></th>\n",
       "      <th>10</th>\n",
       "      <th>acting</th>\n",
       "      <th>action</th>\n",
       "      <th>actor</th>\n",
       "      <th>actors</th>\n",
       "      <th>actually</th>\n",
       "      <th>amazing</th>\n",
       "      <th>american</th>\n",
       "      <th>audience</th>\n",
       "      <th>away</th>\n",
       "      <th>...</th>\n",
       "      <th>watched</th>\n",
       "      <th>watching</th>\n",
       "      <th>way</th>\n",
       "      <th>wife</th>\n",
       "      <th>wonderful</th>\n",
       "      <th>work</th>\n",
       "      <th>world</th>\n",
       "      <th>year</th>\n",
       "      <th>years</th>\n",
       "      <th>young</th>\n",
       "    </tr>\n",
       "  </thead>\n",
       "  <tbody>\n",
       "    <tr>\n",
       "      <th>0</th>\n",
       "      <td>0.000000</td>\n",
       "      <td>0.000000</td>\n",
       "      <td>0.090854</td>\n",
       "      <td>0.0</td>\n",
       "      <td>0.000000</td>\n",
       "      <td>0.0</td>\n",
       "      <td>0.000000</td>\n",
       "      <td>0.000000</td>\n",
       "      <td>0.000000</td>\n",
       "      <td>0.000000</td>\n",
       "      <td>...</td>\n",
       "      <td>0.30572</td>\n",
       "      <td>0.000000</td>\n",
       "      <td>0.000000</td>\n",
       "      <td>0.000000</td>\n",
       "      <td>0.0</td>\n",
       "      <td>0.087107</td>\n",
       "      <td>0.000000</td>\n",
       "      <td>0.000000</td>\n",
       "      <td>0.000000</td>\n",
       "      <td>0.000000</td>\n",
       "    </tr>\n",
       "    <tr>\n",
       "      <th>1</th>\n",
       "      <td>0.000000</td>\n",
       "      <td>0.102612</td>\n",
       "      <td>0.000000</td>\n",
       "      <td>0.0</td>\n",
       "      <td>0.118742</td>\n",
       "      <td>0.0</td>\n",
       "      <td>0.062862</td>\n",
       "      <td>0.000000</td>\n",
       "      <td>0.265061</td>\n",
       "      <td>0.000000</td>\n",
       "      <td>...</td>\n",
       "      <td>0.00000</td>\n",
       "      <td>0.000000</td>\n",
       "      <td>0.044561</td>\n",
       "      <td>0.073825</td>\n",
       "      <td>0.0</td>\n",
       "      <td>0.168731</td>\n",
       "      <td>0.106523</td>\n",
       "      <td>0.000000</td>\n",
       "      <td>0.000000</td>\n",
       "      <td>0.063477</td>\n",
       "    </tr>\n",
       "    <tr>\n",
       "      <th>2</th>\n",
       "      <td>0.000000</td>\n",
       "      <td>0.124850</td>\n",
       "      <td>0.000000</td>\n",
       "      <td>0.0</td>\n",
       "      <td>0.000000</td>\n",
       "      <td>0.0</td>\n",
       "      <td>0.152970</td>\n",
       "      <td>0.000000</td>\n",
       "      <td>0.000000</td>\n",
       "      <td>0.000000</td>\n",
       "      <td>...</td>\n",
       "      <td>0.00000</td>\n",
       "      <td>0.000000</td>\n",
       "      <td>0.000000</td>\n",
       "      <td>0.000000</td>\n",
       "      <td>0.0</td>\n",
       "      <td>0.000000</td>\n",
       "      <td>0.000000</td>\n",
       "      <td>0.000000</td>\n",
       "      <td>0.000000</td>\n",
       "      <td>0.000000</td>\n",
       "    </tr>\n",
       "    <tr>\n",
       "      <th>3</th>\n",
       "      <td>0.066879</td>\n",
       "      <td>0.000000</td>\n",
       "      <td>0.000000</td>\n",
       "      <td>0.0</td>\n",
       "      <td>0.072440</td>\n",
       "      <td>0.0</td>\n",
       "      <td>0.076699</td>\n",
       "      <td>0.085465</td>\n",
       "      <td>0.000000</td>\n",
       "      <td>0.074372</td>\n",
       "      <td>...</td>\n",
       "      <td>0.00000</td>\n",
       "      <td>0.068454</td>\n",
       "      <td>0.000000</td>\n",
       "      <td>0.000000</td>\n",
       "      <td>0.0</td>\n",
       "      <td>0.000000</td>\n",
       "      <td>0.129971</td>\n",
       "      <td>0.087628</td>\n",
       "      <td>0.065314</td>\n",
       "      <td>0.000000</td>\n",
       "    </tr>\n",
       "    <tr>\n",
       "      <th>4</th>\n",
       "      <td>0.000000</td>\n",
       "      <td>0.000000</td>\n",
       "      <td>0.000000</td>\n",
       "      <td>0.0</td>\n",
       "      <td>0.000000</td>\n",
       "      <td>0.0</td>\n",
       "      <td>0.000000</td>\n",
       "      <td>0.000000</td>\n",
       "      <td>0.000000</td>\n",
       "      <td>0.000000</td>\n",
       "      <td>...</td>\n",
       "      <td>0.00000</td>\n",
       "      <td>0.000000</td>\n",
       "      <td>0.000000</td>\n",
       "      <td>0.000000</td>\n",
       "      <td>0.0</td>\n",
       "      <td>0.000000</td>\n",
       "      <td>0.000000</td>\n",
       "      <td>0.000000</td>\n",
       "      <td>0.000000</td>\n",
       "      <td>0.000000</td>\n",
       "    </tr>\n",
       "  </tbody>\n",
       "</table>\n",
       "<p>5 rows × 200 columns</p>\n",
       "</div>"
      ],
      "text/plain": [
       "         10    acting    action  actor    actors  actually   amazing  \\\n",
       "0  0.000000  0.000000  0.090854    0.0  0.000000       0.0  0.000000   \n",
       "1  0.000000  0.102612  0.000000    0.0  0.118742       0.0  0.062862   \n",
       "2  0.000000  0.124850  0.000000    0.0  0.000000       0.0  0.152970   \n",
       "3  0.066879  0.000000  0.000000    0.0  0.072440       0.0  0.076699   \n",
       "4  0.000000  0.000000  0.000000    0.0  0.000000       0.0  0.000000   \n",
       "\n",
       "   american  audience      away    ...     watched  watching       way  \\\n",
       "0  0.000000  0.000000  0.000000    ...     0.30572  0.000000  0.000000   \n",
       "1  0.000000  0.265061  0.000000    ...     0.00000  0.000000  0.044561   \n",
       "2  0.000000  0.000000  0.000000    ...     0.00000  0.000000  0.000000   \n",
       "3  0.085465  0.000000  0.074372    ...     0.00000  0.068454  0.000000   \n",
       "4  0.000000  0.000000  0.000000    ...     0.00000  0.000000  0.000000   \n",
       "\n",
       "       wife  wonderful      work     world      year     years     young  \n",
       "0  0.000000        0.0  0.087107  0.000000  0.000000  0.000000  0.000000  \n",
       "1  0.073825        0.0  0.168731  0.106523  0.000000  0.000000  0.063477  \n",
       "2  0.000000        0.0  0.000000  0.000000  0.000000  0.000000  0.000000  \n",
       "3  0.000000        0.0  0.000000  0.129971  0.087628  0.065314  0.000000  \n",
       "4  0.000000        0.0  0.000000  0.000000  0.000000  0.000000  0.000000  \n",
       "\n",
       "[5 rows x 200 columns]"
      ]
     },
     "execution_count": 122,
     "metadata": {},
     "output_type": "execute_result"
    }
   ],
   "source": [
    "# View dense matrix\n",
    "\n",
    "ngram_df.head()"
   ]
  },
  {
   "cell_type": "code",
   "execution_count": 124,
   "metadata": {
    "collapsed": false
   },
   "outputs": [
    {
     "data": {
      "text/html": [
       "<div>\n",
       "<table border=\"1\" class=\"dataframe\">\n",
       "  <thead>\n",
       "    <tr style=\"text-align: right;\">\n",
       "      <th></th>\n",
       "      <th>movie_id</th>\n",
       "      <th>review_rating</th>\n",
       "      <th>review_text</th>\n",
       "    </tr>\n",
       "  </thead>\n",
       "  <tbody>\n",
       "    <tr>\n",
       "      <th>0</th>\n",
       "      <td>tt0111161</td>\n",
       "      <td>10.0</td>\n",
       "      <td>why do i want to write the 234th comment on th...</td>\n",
       "    </tr>\n",
       "    <tr>\n",
       "      <th>1</th>\n",
       "      <td>tt0111161</td>\n",
       "      <td>10.0</td>\n",
       "      <td>\\ncan hollywood, usually creating things for e...</td>\n",
       "    </tr>\n",
       "    <tr>\n",
       "      <th>2</th>\n",
       "      <td>tt0111161</td>\n",
       "      <td>NaN</td>\n",
       "      <td>\\ni have never seen such an amazing film since...</td>\n",
       "    </tr>\n",
       "    <tr>\n",
       "      <th>3</th>\n",
       "      <td>tt0111161</td>\n",
       "      <td>10.0</td>\n",
       "      <td>in its oscar year, shawshank redemption writte...</td>\n",
       "    </tr>\n",
       "    <tr>\n",
       "      <th>4</th>\n",
       "      <td>tt0111161</td>\n",
       "      <td>NaN</td>\n",
       "      <td>the reason i became a member of this database ...</td>\n",
       "    </tr>\n",
       "  </tbody>\n",
       "</table>\n",
       "</div>"
      ],
      "text/plain": [
       "    movie_id  review_rating                                        review_text\n",
       "0  tt0111161           10.0  why do i want to write the 234th comment on th...\n",
       "1  tt0111161           10.0  \\ncan hollywood, usually creating things for e...\n",
       "2  tt0111161            NaN  \\ni have never seen such an amazing film since...\n",
       "3  tt0111161           10.0  in its oscar year, shawshank redemption writte...\n",
       "4  tt0111161            NaN  the reason i became a member of this database ..."
      ]
     },
     "execution_count": 124,
     "metadata": {},
     "output_type": "execute_result"
    }
   ],
   "source": [
    "# View reviews_df head\n",
    "\n",
    "reviews_df.head()"
   ]
  },
  {
   "cell_type": "markdown",
   "metadata": {},
   "source": [
    "#### 5. Merge the user reviews and ratings"
   ]
  },
  {
   "cell_type": "code",
   "execution_count": 126,
   "metadata": {
    "collapsed": true
   },
   "outputs": [],
   "source": [
    "# Merge using join\n",
    "\n",
    "merged_reviews_ngrams = reviews_df.join(ngram_df)"
   ]
  },
  {
   "cell_type": "code",
   "execution_count": 127,
   "metadata": {
    "collapsed": false
   },
   "outputs": [
    {
     "data": {
      "text/html": [
       "<div>\n",
       "<table border=\"1\" class=\"dataframe\">\n",
       "  <thead>\n",
       "    <tr style=\"text-align: right;\">\n",
       "      <th></th>\n",
       "      <th>movie_id</th>\n",
       "      <th>review_rating</th>\n",
       "      <th>review_text</th>\n",
       "      <th>10</th>\n",
       "      <th>acting</th>\n",
       "      <th>action</th>\n",
       "      <th>actor</th>\n",
       "      <th>actors</th>\n",
       "      <th>actually</th>\n",
       "      <th>amazing</th>\n",
       "      <th>...</th>\n",
       "      <th>watched</th>\n",
       "      <th>watching</th>\n",
       "      <th>way</th>\n",
       "      <th>wife</th>\n",
       "      <th>wonderful</th>\n",
       "      <th>work</th>\n",
       "      <th>world</th>\n",
       "      <th>year</th>\n",
       "      <th>years</th>\n",
       "      <th>young</th>\n",
       "    </tr>\n",
       "  </thead>\n",
       "  <tbody>\n",
       "    <tr>\n",
       "      <th>0</th>\n",
       "      <td>tt0111161</td>\n",
       "      <td>10.0</td>\n",
       "      <td>why do i want to write the 234th comment on th...</td>\n",
       "      <td>0.000000</td>\n",
       "      <td>0.000000</td>\n",
       "      <td>0.090854</td>\n",
       "      <td>0.0</td>\n",
       "      <td>0.000000</td>\n",
       "      <td>0.0</td>\n",
       "      <td>0.000000</td>\n",
       "      <td>...</td>\n",
       "      <td>0.30572</td>\n",
       "      <td>0.000000</td>\n",
       "      <td>0.000000</td>\n",
       "      <td>0.000000</td>\n",
       "      <td>0.0</td>\n",
       "      <td>0.087107</td>\n",
       "      <td>0.000000</td>\n",
       "      <td>0.000000</td>\n",
       "      <td>0.000000</td>\n",
       "      <td>0.000000</td>\n",
       "    </tr>\n",
       "    <tr>\n",
       "      <th>1</th>\n",
       "      <td>tt0111161</td>\n",
       "      <td>10.0</td>\n",
       "      <td>\\ncan hollywood, usually creating things for e...</td>\n",
       "      <td>0.000000</td>\n",
       "      <td>0.102612</td>\n",
       "      <td>0.000000</td>\n",
       "      <td>0.0</td>\n",
       "      <td>0.118742</td>\n",
       "      <td>0.0</td>\n",
       "      <td>0.062862</td>\n",
       "      <td>...</td>\n",
       "      <td>0.00000</td>\n",
       "      <td>0.000000</td>\n",
       "      <td>0.044561</td>\n",
       "      <td>0.073825</td>\n",
       "      <td>0.0</td>\n",
       "      <td>0.168731</td>\n",
       "      <td>0.106523</td>\n",
       "      <td>0.000000</td>\n",
       "      <td>0.000000</td>\n",
       "      <td>0.063477</td>\n",
       "    </tr>\n",
       "    <tr>\n",
       "      <th>2</th>\n",
       "      <td>tt0111161</td>\n",
       "      <td>NaN</td>\n",
       "      <td>\\ni have never seen such an amazing film since...</td>\n",
       "      <td>0.000000</td>\n",
       "      <td>0.124850</td>\n",
       "      <td>0.000000</td>\n",
       "      <td>0.0</td>\n",
       "      <td>0.000000</td>\n",
       "      <td>0.0</td>\n",
       "      <td>0.152970</td>\n",
       "      <td>...</td>\n",
       "      <td>0.00000</td>\n",
       "      <td>0.000000</td>\n",
       "      <td>0.000000</td>\n",
       "      <td>0.000000</td>\n",
       "      <td>0.0</td>\n",
       "      <td>0.000000</td>\n",
       "      <td>0.000000</td>\n",
       "      <td>0.000000</td>\n",
       "      <td>0.000000</td>\n",
       "      <td>0.000000</td>\n",
       "    </tr>\n",
       "    <tr>\n",
       "      <th>3</th>\n",
       "      <td>tt0111161</td>\n",
       "      <td>10.0</td>\n",
       "      <td>in its oscar year, shawshank redemption writte...</td>\n",
       "      <td>0.066879</td>\n",
       "      <td>0.000000</td>\n",
       "      <td>0.000000</td>\n",
       "      <td>0.0</td>\n",
       "      <td>0.072440</td>\n",
       "      <td>0.0</td>\n",
       "      <td>0.076699</td>\n",
       "      <td>...</td>\n",
       "      <td>0.00000</td>\n",
       "      <td>0.068454</td>\n",
       "      <td>0.000000</td>\n",
       "      <td>0.000000</td>\n",
       "      <td>0.0</td>\n",
       "      <td>0.000000</td>\n",
       "      <td>0.129971</td>\n",
       "      <td>0.087628</td>\n",
       "      <td>0.065314</td>\n",
       "      <td>0.000000</td>\n",
       "    </tr>\n",
       "    <tr>\n",
       "      <th>4</th>\n",
       "      <td>tt0111161</td>\n",
       "      <td>NaN</td>\n",
       "      <td>the reason i became a member of this database ...</td>\n",
       "      <td>0.000000</td>\n",
       "      <td>0.000000</td>\n",
       "      <td>0.000000</td>\n",
       "      <td>0.0</td>\n",
       "      <td>0.000000</td>\n",
       "      <td>0.0</td>\n",
       "      <td>0.000000</td>\n",
       "      <td>...</td>\n",
       "      <td>0.00000</td>\n",
       "      <td>0.000000</td>\n",
       "      <td>0.000000</td>\n",
       "      <td>0.000000</td>\n",
       "      <td>0.0</td>\n",
       "      <td>0.000000</td>\n",
       "      <td>0.000000</td>\n",
       "      <td>0.000000</td>\n",
       "      <td>0.000000</td>\n",
       "      <td>0.000000</td>\n",
       "    </tr>\n",
       "  </tbody>\n",
       "</table>\n",
       "<p>5 rows × 203 columns</p>\n",
       "</div>"
      ],
      "text/plain": [
       "    movie_id  review_rating  \\\n",
       "0  tt0111161           10.0   \n",
       "1  tt0111161           10.0   \n",
       "2  tt0111161            NaN   \n",
       "3  tt0111161           10.0   \n",
       "4  tt0111161            NaN   \n",
       "\n",
       "                                         review_text        10    acting  \\\n",
       "0  why do i want to write the 234th comment on th...  0.000000  0.000000   \n",
       "1  \\ncan hollywood, usually creating things for e...  0.000000  0.102612   \n",
       "2  \\ni have never seen such an amazing film since...  0.000000  0.124850   \n",
       "3  in its oscar year, shawshank redemption writte...  0.066879  0.000000   \n",
       "4  the reason i became a member of this database ...  0.000000  0.000000   \n",
       "\n",
       "     action  actor    actors  actually   amazing    ...     watched  watching  \\\n",
       "0  0.090854    0.0  0.000000       0.0  0.000000    ...     0.30572  0.000000   \n",
       "1  0.000000    0.0  0.118742       0.0  0.062862    ...     0.00000  0.000000   \n",
       "2  0.000000    0.0  0.000000       0.0  0.152970    ...     0.00000  0.000000   \n",
       "3  0.000000    0.0  0.072440       0.0  0.076699    ...     0.00000  0.068454   \n",
       "4  0.000000    0.0  0.000000       0.0  0.000000    ...     0.00000  0.000000   \n",
       "\n",
       "        way      wife  wonderful      work     world      year     years  \\\n",
       "0  0.000000  0.000000        0.0  0.087107  0.000000  0.000000  0.000000   \n",
       "1  0.044561  0.073825        0.0  0.168731  0.106523  0.000000  0.000000   \n",
       "2  0.000000  0.000000        0.0  0.000000  0.000000  0.000000  0.000000   \n",
       "3  0.000000  0.000000        0.0  0.000000  0.129971  0.087628  0.065314   \n",
       "4  0.000000  0.000000        0.0  0.000000  0.000000  0.000000  0.000000   \n",
       "\n",
       "      young  \n",
       "0  0.000000  \n",
       "1  0.063477  \n",
       "2  0.000000  \n",
       "3  0.000000  \n",
       "4  0.000000  \n",
       "\n",
       "[5 rows x 203 columns]"
      ]
     },
     "execution_count": 127,
     "metadata": {},
     "output_type": "execute_result"
    }
   ],
   "source": [
    "# View merged head\n",
    "\n",
    "merged_reviews_ngrams.head(2)"
   ]
  },
  {
   "cell_type": "code",
   "execution_count": 129,
   "metadata": {
    "collapsed": false
   },
   "outputs": [],
   "source": [
    "# Drop nulls -- i.e. the rows w/out a rating\n",
    "\n",
    "merged_reviews_ngrams.dropna(axis = 0, inplace = True)"
   ]
  },
  {
   "cell_type": "code",
   "execution_count": 131,
   "metadata": {
    "collapsed": true
   },
   "outputs": [],
   "source": [
    "# Drop review column, leaving ngram columns\n",
    "\n",
    "merged_reviews_ngrams.drop('review_text', axis=1, inplace = True)"
   ]
  },
  {
   "cell_type": "code",
   "execution_count": 132,
   "metadata": {
    "collapsed": false
   },
   "outputs": [
    {
     "data": {
      "text/plain": [
       "(21065, 202)"
      ]
     },
     "execution_count": 132,
     "metadata": {},
     "output_type": "execute_result"
    }
   ],
   "source": [
    "# Check shape \n",
    "\n",
    "merged_reviews_ngrams.shape"
   ]
  },
  {
   "cell_type": "markdown",
   "metadata": {},
   "source": [
    "#### 6. Save this merged dataframe as a csv"
   ]
  },
  {
   "cell_type": "code",
   "execution_count": 134,
   "metadata": {
    "collapsed": false
   },
   "outputs": [],
   "source": [
    "# Use to_csv\n",
    "\n",
    "merged_reviews_ngrams.to_csv('reviews_better', encoding= 'utf-8')"
   ]
  },
  {
   "cell_type": "markdown",
   "metadata": {},
   "source": [
    "---\n",
    "\n",
    "## Part 3: Combine Tables in PostgreSQL"
   ]
  },
  {
   "cell_type": "markdown",
   "metadata": {},
   "source": [
    "#### 1. Import your two .csv data files into your Postgre Database as two different tables"
   ]
  },
  {
   "cell_type": "markdown",
   "metadata": {},
   "source": [
    "For ease, we can call these table1 and table2"
   ]
  },
  {
   "cell_type": "code",
   "execution_count": 8,
   "metadata": {
    "collapsed": true
   },
   "outputs": [],
   "source": [
    "# Import sqlalchemy\n",
    "\n",
    "from sqlalchemy import create_engine"
   ]
  },
  {
   "cell_type": "code",
   "execution_count": 9,
   "metadata": {
    "collapsed": true
   },
   "outputs": [],
   "source": [
    "# Create engine mapping to my local postgres\n",
    "\n",
    "engine = create_engine('postgresql://michaelshea@localhost:5432/project_6')"
   ]
  },
  {
   "cell_type": "code",
   "execution_count": 138,
   "metadata": {
    "collapsed": true
   },
   "outputs": [],
   "source": [
    "# Push merged_reviews_ngrams DataFrame to sql\n",
    "\n",
    "merged_reviews_ngrams.to_sql('reviews', engine, flavor='postgres', if_exists='replace')"
   ]
  },
  {
   "cell_type": "code",
   "execution_count": 30,
   "metadata": {
    "collapsed": true
   },
   "outputs": [],
   "source": [
    "# Push top_hun DataFrame to sql\n",
    "\n",
    "top_hund.to_sql('movies_better', engine, flavor='postgres', if_exists='replace')"
   ]
  },
  {
   "cell_type": "markdown",
   "metadata": {},
   "source": [
    "#### 2. Connect to database and query the joined set"
   ]
  },
  {
   "cell_type": "code",
   "execution_count": 2,
   "metadata": {
    "collapsed": false
   },
   "outputs": [
    {
     "name": "stderr",
     "output_type": "stream",
     "text": [
      "/Users/michaelshea/anaconda/lib/python2.7/site-packages/IPython/config.py:13: ShimWarning: The `IPython.config` package has been deprecated. You should import from traitlets.config instead.\n",
      "  \"You should import from traitlets.config instead.\", ShimWarning)\n",
      "/Users/michaelshea/anaconda/lib/python2.7/site-packages/IPython/utils/traitlets.py:5: UserWarning: IPython.utils.traitlets has moved to a top-level traitlets package.\n",
      "  warn(\"IPython.utils.traitlets has moved to a top-level traitlets package.\")\n"
     ]
    }
   ],
   "source": [
    "# use iPython sql magic\n",
    "\n",
    "%load_ext sql"
   ]
  },
  {
   "cell_type": "code",
   "execution_count": 3,
   "metadata": {
    "collapsed": false
   },
   "outputs": [
    {
     "data": {
      "text/plain": [
       "u'Connected: michaelshea@project_6'"
      ]
     },
     "execution_count": 3,
     "metadata": {},
     "output_type": "execute_result"
    }
   ],
   "source": [
    "%%sql \n",
    "postgresql://michaelshea@localhost:5432/project_6"
   ]
  },
  {
   "cell_type": "code",
   "execution_count": 4,
   "metadata": {
    "collapsed": false
   },
   "outputs": [
    {
     "name": "stdout",
     "output_type": "stream",
     "text": [
      "2 rows affected.\n"
     ]
    },
    {
     "data": {
      "text/html": [
       "<table>\n",
       "    <tr>\n",
       "        <th>index</th>\n",
       "        <th>num_votes</th>\n",
       "        <th>rating</th>\n",
       "        <th>tconst</th>\n",
       "        <th>title</th>\n",
       "        <th>year</th>\n",
       "        <th>genre</th>\n",
       "        <th>runtime</th>\n",
       "        <th>Action</th>\n",
       "        <th>Adventure</th>\n",
       "        <th>Animation</th>\n",
       "        <th>Biography</th>\n",
       "        <th>Comedy</th>\n",
       "        <th>Crime</th>\n",
       "        <th>Drama</th>\n",
       "        <th>Family</th>\n",
       "        <th>Fantasy</th>\n",
       "        <th>Film-Noir</th>\n",
       "        <th>History</th>\n",
       "        <th>Horror</th>\n",
       "        <th>Music</th>\n",
       "        <th>Mystery</th>\n",
       "        <th>Romance</th>\n",
       "        <th>Sci-Fi</th>\n",
       "        <th>Sport</th>\n",
       "        <th>Thriller</th>\n",
       "        <th>War</th>\n",
       "        <th>Western</th>\n",
       "    </tr>\n",
       "    <tr>\n",
       "        <td>0</td>\n",
       "        <td>1660702</td>\n",
       "        <td>9.3</td>\n",
       "        <td>tt0111161</td>\n",
       "        <td>The Shawshank Redemption</td>\n",
       "        <td>1994</td>\n",
       "        <td>{Crime,Drama}</td>\n",
       "        <td>142</td>\n",
       "        <td>0.0</td>\n",
       "        <td>0.0</td>\n",
       "        <td>0.0</td>\n",
       "        <td>0.0</td>\n",
       "        <td>0.0</td>\n",
       "        <td>1.0</td>\n",
       "        <td>1.0</td>\n",
       "        <td>0.0</td>\n",
       "        <td>0.0</td>\n",
       "        <td>0.0</td>\n",
       "        <td>0.0</td>\n",
       "        <td>0.0</td>\n",
       "        <td>0.0</td>\n",
       "        <td>0.0</td>\n",
       "        <td>0.0</td>\n",
       "        <td>0.0</td>\n",
       "        <td>0.0</td>\n",
       "        <td>0.0</td>\n",
       "        <td>0.0</td>\n",
       "        <td>0.0</td>\n",
       "    </tr>\n",
       "    <tr>\n",
       "        <td>1</td>\n",
       "        <td>1136669</td>\n",
       "        <td>9.2</td>\n",
       "        <td>tt0068646</td>\n",
       "        <td>The Godfather</td>\n",
       "        <td>1972</td>\n",
       "        <td>{Crime,Drama}</td>\n",
       "        <td>175</td>\n",
       "        <td>0.0</td>\n",
       "        <td>0.0</td>\n",
       "        <td>0.0</td>\n",
       "        <td>0.0</td>\n",
       "        <td>0.0</td>\n",
       "        <td>1.0</td>\n",
       "        <td>1.0</td>\n",
       "        <td>0.0</td>\n",
       "        <td>0.0</td>\n",
       "        <td>0.0</td>\n",
       "        <td>0.0</td>\n",
       "        <td>0.0</td>\n",
       "        <td>0.0</td>\n",
       "        <td>0.0</td>\n",
       "        <td>0.0</td>\n",
       "        <td>0.0</td>\n",
       "        <td>0.0</td>\n",
       "        <td>0.0</td>\n",
       "        <td>0.0</td>\n",
       "        <td>0.0</td>\n",
       "    </tr>\n",
       "</table>"
      ],
      "text/plain": [
       "[(0L, 1660702L, 9.3, u'tt0111161', u'The Shawshank Redemption', u'1994', u'{Crime,Drama}', u'142', 0.0, 0.0, 0.0, 0.0, 0.0, 1.0, 1.0, 0.0, 0.0, 0.0, 0.0, 0.0, 0.0, 0.0, 0.0, 0.0, 0.0, 0.0, 0.0, 0.0),\n",
       " (1L, 1136669L, 9.2, u'tt0068646', u'The Godfather', u'1972', u'{Crime,Drama}', u'175', 0.0, 0.0, 0.0, 0.0, 0.0, 1.0, 1.0, 0.0, 0.0, 0.0, 0.0, 0.0, 0.0, 0.0, 0.0, 0.0, 0.0, 0.0, 0.0, 0.0)]"
      ]
     },
     "execution_count": 4,
     "metadata": {},
     "output_type": "execute_result"
    }
   ],
   "source": [
    "# Try a sql query, see if it works\n",
    "\n",
    "%sql SELECT * FROM movies_BETTER LIMIT 2;"
   ]
  },
  {
   "cell_type": "code",
   "execution_count": 33,
   "metadata": {
    "collapsed": false
   },
   "outputs": [
    {
     "name": "stdout",
     "output_type": "stream",
     "text": [
      "7 rows affected.\n"
     ]
    },
    {
     "data": {
      "text/html": [
       "<table>\n",
       "    <tr>\n",
       "        <th>column_name</th>\n",
       "        <th>data_type</th>\n",
       "    </tr>\n",
       "    <tr>\n",
       "        <td>index</td>\n",
       "        <td>bigint</td>\n",
       "    </tr>\n",
       "    <tr>\n",
       "        <td>movie_id</td>\n",
       "        <td>text</td>\n",
       "    </tr>\n",
       "    <tr>\n",
       "        <td>review_rating</td>\n",
       "        <td>double precision</td>\n",
       "    </tr>\n",
       "    <tr>\n",
       "        <td>10</td>\n",
       "        <td>double precision</td>\n",
       "    </tr>\n",
       "    <tr>\n",
       "        <td>acting</td>\n",
       "        <td>double precision</td>\n",
       "    </tr>\n",
       "    <tr>\n",
       "        <td>action</td>\n",
       "        <td>double precision</td>\n",
       "    </tr>\n",
       "    <tr>\n",
       "        <td>actor</td>\n",
       "        <td>double precision</td>\n",
       "    </tr>\n",
       "</table>"
      ],
      "text/plain": [
       "[(u'index', u'bigint'),\n",
       " (u'movie_id', u'text'),\n",
       " (u'review_rating', u'double precision'),\n",
       " (u'10', u'double precision'),\n",
       " (u'acting', u'double precision'),\n",
       " (u'action', u'double precision'),\n",
       " (u'actor', u'double precision')]"
      ]
     },
     "execution_count": 33,
     "metadata": {},
     "output_type": "execute_result"
    }
   ],
   "source": [
    "# Try another on the other table - check datatypes\n",
    "\n",
    "%sql SELECT column_name, data_type FROM information_schema.columns WHERE table_name = 'reviews' LIMIT 7;"
   ]
  },
  {
   "cell_type": "markdown",
   "metadata": {},
   "source": [
    "#### 3. Join the two tables "
   ]
  },
  {
   "cell_type": "code",
   "execution_count": 35,
   "metadata": {
    "collapsed": false
   },
   "outputs": [
    {
     "name": "stdout",
     "output_type": "stream",
     "text": [
      "20413 rows affected.\n"
     ]
    }
   ],
   "source": [
    "joined_df = %sql SELECT * FROM movies_better INNER JOIN reviews ON movies_better.tconst = reviews.movie_id;"
   ]
  },
  {
   "cell_type": "code",
   "execution_count": 14,
   "metadata": {
    "collapsed": false
   },
   "outputs": [
    {
     "name": "stdout",
     "output_type": "stream",
     "text": [
      "28 rows affected.\n"
     ]
    },
    {
     "data": {
      "text/html": [
       "<table>\n",
       "    <tr>\n",
       "        <th>column_name</th>\n",
       "    </tr>\n",
       "    <tr>\n",
       "        <td>index</td>\n",
       "    </tr>\n",
       "    <tr>\n",
       "        <td>num_votes</td>\n",
       "    </tr>\n",
       "    <tr>\n",
       "        <td>rating</td>\n",
       "    </tr>\n",
       "    <tr>\n",
       "        <td>tconst</td>\n",
       "    </tr>\n",
       "    <tr>\n",
       "        <td>title</td>\n",
       "    </tr>\n",
       "    <tr>\n",
       "        <td>year</td>\n",
       "    </tr>\n",
       "    <tr>\n",
       "        <td>genre</td>\n",
       "    </tr>\n",
       "    <tr>\n",
       "        <td>runtime</td>\n",
       "    </tr>\n",
       "    <tr>\n",
       "        <td>Action</td>\n",
       "    </tr>\n",
       "    <tr>\n",
       "        <td>Adventure</td>\n",
       "    </tr>\n",
       "    <tr>\n",
       "        <td>Animation</td>\n",
       "    </tr>\n",
       "    <tr>\n",
       "        <td>Biography</td>\n",
       "    </tr>\n",
       "    <tr>\n",
       "        <td>Comedy</td>\n",
       "    </tr>\n",
       "    <tr>\n",
       "        <td>Crime</td>\n",
       "    </tr>\n",
       "    <tr>\n",
       "        <td>Drama</td>\n",
       "    </tr>\n",
       "    <tr>\n",
       "        <td>Family</td>\n",
       "    </tr>\n",
       "    <tr>\n",
       "        <td>Fantasy</td>\n",
       "    </tr>\n",
       "    <tr>\n",
       "        <td>Film-Noir</td>\n",
       "    </tr>\n",
       "    <tr>\n",
       "        <td>History</td>\n",
       "    </tr>\n",
       "    <tr>\n",
       "        <td>Horror</td>\n",
       "    </tr>\n",
       "    <tr>\n",
       "        <td>Music</td>\n",
       "    </tr>\n",
       "    <tr>\n",
       "        <td>Mystery</td>\n",
       "    </tr>\n",
       "    <tr>\n",
       "        <td>Romance</td>\n",
       "    </tr>\n",
       "    <tr>\n",
       "        <td>Sci-Fi</td>\n",
       "    </tr>\n",
       "    <tr>\n",
       "        <td>Sport</td>\n",
       "    </tr>\n",
       "    <tr>\n",
       "        <td>Thriller</td>\n",
       "    </tr>\n",
       "    <tr>\n",
       "        <td>War</td>\n",
       "    </tr>\n",
       "    <tr>\n",
       "        <td>Western</td>\n",
       "    </tr>\n",
       "</table>"
      ],
      "text/plain": [
       "[(u'index',),\n",
       " (u'num_votes',),\n",
       " (u'rating',),\n",
       " (u'tconst',),\n",
       " (u'title',),\n",
       " (u'year',),\n",
       " (u'genre',),\n",
       " (u'runtime',),\n",
       " (u'Action',),\n",
       " (u'Adventure',),\n",
       " (u'Animation',),\n",
       " (u'Biography',),\n",
       " (u'Comedy',),\n",
       " (u'Crime',),\n",
       " (u'Drama',),\n",
       " (u'Family',),\n",
       " (u'Fantasy',),\n",
       " (u'Film-Noir',),\n",
       " (u'History',),\n",
       " (u'Horror',),\n",
       " (u'Music',),\n",
       " (u'Mystery',),\n",
       " (u'Romance',),\n",
       " (u'Sci-Fi',),\n",
       " (u'Sport',),\n",
       " (u'Thriller',),\n",
       " (u'War',),\n",
       " (u'Western',)]"
      ]
     },
     "execution_count": 14,
     "metadata": {},
     "output_type": "execute_result"
    }
   ],
   "source": [
    "movie_cols = %sql SELECT column_name FROM information_schema.columns WHERE table_name = 'movies';"
   ]
  },
  {
   "cell_type": "markdown",
   "metadata": {},
   "source": [
    "#### 4. Select the newly joined table and save two copies of the into dataframes"
   ]
  },
  {
   "cell_type": "code",
   "execution_count": 6,
   "metadata": {
    "collapsed": true
   },
   "outputs": [],
   "source": [
    "# import pandas as pd"
   ]
  },
  {
   "cell_type": "code",
   "execution_count": 10,
   "metadata": {
    "collapsed": false
   },
   "outputs": [],
   "source": [
    "# use read_sql\n",
    "\n",
    "movies_reviews = pd.read_sql('SELECT * FROM movies_better INNER JOIN reviews ON movies_better.tconst = reviews.movie_id;', engine)\n"
   ]
  },
  {
   "cell_type": "code",
   "execution_count": 11,
   "metadata": {
    "collapsed": false
   },
   "outputs": [
    {
     "data": {
      "text/plain": [
       "pandas.core.frame.DataFrame"
      ]
     },
     "execution_count": 11,
     "metadata": {},
     "output_type": "execute_result"
    }
   ],
   "source": [
    "type(movies_reviews)"
   ]
  },
  {
   "cell_type": "code",
   "execution_count": 13,
   "metadata": {
    "collapsed": false
   },
   "outputs": [],
   "source": [
    "movies_reviews.to_csv('joined_thurs_2', encoding= 'utf-8')"
   ]
  },
  {
   "cell_type": "markdown",
   "metadata": {},
   "source": [
    "---\n",
    "\n",
    "## Part 4: Parsing and Exploratory Data Analysis"
   ]
  },
  {
   "cell_type": "markdown",
   "metadata": {},
   "source": [
    "#### 1. Rename any columns you think should be renamed for clarity"
   ]
  },
  {
   "cell_type": "code",
   "execution_count": 2,
   "metadata": {
    "collapsed": true
   },
   "outputs": [],
   "source": [
    "path = '/Users/michaelshea/desktop/DSI-DC-1/week-06/Project 6/starter-code/joined_thurs_2'"
   ]
  },
  {
   "cell_type": "code",
   "execution_count": 3,
   "metadata": {
    "collapsed": true
   },
   "outputs": [],
   "source": [
    "movies_reviews = pd.read_csv(path)"
   ]
  },
  {
   "cell_type": "code",
   "execution_count": 4,
   "metadata": {
    "collapsed": false
   },
   "outputs": [
    {
     "data": {
      "text/html": [
       "<div>\n",
       "<table border=\"1\" class=\"dataframe\">\n",
       "  <thead>\n",
       "    <tr style=\"text-align: right;\">\n",
       "      <th></th>\n",
       "      <th>Unnamed: 0</th>\n",
       "      <th>index</th>\n",
       "      <th>num_votes</th>\n",
       "      <th>rating</th>\n",
       "      <th>tconst</th>\n",
       "      <th>title</th>\n",
       "      <th>year</th>\n",
       "      <th>genre</th>\n",
       "      <th>runtime</th>\n",
       "      <th>Action</th>\n",
       "      <th>...</th>\n",
       "      <th>watched</th>\n",
       "      <th>watching</th>\n",
       "      <th>way</th>\n",
       "      <th>wife</th>\n",
       "      <th>wonderful</th>\n",
       "      <th>work</th>\n",
       "      <th>world</th>\n",
       "      <th>year.1</th>\n",
       "      <th>years</th>\n",
       "      <th>young</th>\n",
       "    </tr>\n",
       "  </thead>\n",
       "  <tbody>\n",
       "    <tr>\n",
       "      <th>0</th>\n",
       "      <td>0</td>\n",
       "      <td>0</td>\n",
       "      <td>1660702</td>\n",
       "      <td>9.3</td>\n",
       "      <td>tt0111161</td>\n",
       "      <td>The Shawshank Redemption</td>\n",
       "      <td>1994</td>\n",
       "      <td>{Crime,Drama}</td>\n",
       "      <td>142</td>\n",
       "      <td>0.0</td>\n",
       "      <td>...</td>\n",
       "      <td>0.30572</td>\n",
       "      <td>0.0</td>\n",
       "      <td>0.0</td>\n",
       "      <td>0.0</td>\n",
       "      <td>0.0</td>\n",
       "      <td>0.087107</td>\n",
       "      <td>0.0</td>\n",
       "      <td>0.0</td>\n",
       "      <td>0.0</td>\n",
       "      <td>0.0</td>\n",
       "    </tr>\n",
       "  </tbody>\n",
       "</table>\n",
       "<p>1 rows × 232 columns</p>\n",
       "</div>"
      ],
      "text/plain": [
       "   Unnamed: 0  index  num_votes  rating     tconst                     title  \\\n",
       "0           0      0    1660702     9.3  tt0111161  The Shawshank Redemption   \n",
       "\n",
       "   year          genre  runtime  Action  ...    watched  watching  way  wife  \\\n",
       "0  1994  {Crime,Drama}      142     0.0  ...    0.30572       0.0  0.0   0.0   \n",
       "\n",
       "   wonderful      work  world  year.1  years  young  \n",
       "0        0.0  0.087107    0.0     0.0    0.0    0.0  \n",
       "\n",
       "[1 rows x 232 columns]"
      ]
     },
     "execution_count": 4,
     "metadata": {},
     "output_type": "execute_result"
    }
   ],
   "source": [
    "movies_reviews.head(1)"
   ]
  },
  {
   "cell_type": "code",
   "execution_count": 5,
   "metadata": {
    "collapsed": false
   },
   "outputs": [],
   "source": [
    "# retaining this code if I decide to use it again\n",
    "\n",
    "# movies_reviews.rename(columns={movies_reviews.year:'year_shown'}, inplace=True)\n",
    "# movies_reviews.runtime = pd.to_numeric(movies_reviews.runtime, errors='coerce')\n",
    "# movs_revs_grouped = movies_reviews.groupby('title').mean()\n",
    "# movs_revs_grouped.drop('genre', axis=1, inplace=True)"
   ]
  },
  {
   "cell_type": "markdown",
   "metadata": {},
   "source": [
    "#### 2. Describe anything interesting or suspicious about your data (quality assurance)"
   ]
  },
  {
   "cell_type": "markdown",
   "metadata": {},
   "source": [
    "##### NOTE I somehow lost three movies in the shuffle, as demonstrated by the code directly below."
   ]
  },
  {
   "cell_type": "code",
   "execution_count": 5,
   "metadata": {
    "collapsed": false
   },
   "outputs": [
    {
     "data": {
      "text/plain": [
       "97"
      ]
     },
     "execution_count": 5,
     "metadata": {},
     "output_type": "execute_result"
    }
   ],
   "source": [
    "# I somehow lost three movies in the shuffle\n",
    "\n",
    "movies_reviews.title.nunique()"
   ]
  },
  {
   "cell_type": "markdown",
   "metadata": {
    "collapsed": true
   },
   "source": [
    "#### 3. Make four visualizations of interest to you using the data"
   ]
  },
  {
   "cell_type": "code",
   "execution_count": 6,
   "metadata": {
    "collapsed": false
   },
   "outputs": [
    {
     "data": {
      "text/plain": [
       "<matplotlib.text.Text at 0x103f1d8d0>"
      ]
     },
     "execution_count": 6,
     "metadata": {},
     "output_type": "execute_result"
    },
    {
     "data": {
      "image/png": "[encoded data removed]",
      "text/plain": [
       "<matplotlib.figure.Figure at 0x104170850>"
      ]
     },
     "metadata": {},
     "output_type": "display_data"
    }
   ],
   "source": [
    "plt.hist(movies_reviews.review_rating)\n",
    "plt.xlabel(\"Rating\")\n",
    "plt.title(\"Distribution of Movie Ratings\")"
   ]
  },
  {
   "cell_type": "code",
   "execution_count": 7,
   "metadata": {
    "collapsed": false
   },
   "outputs": [
    {
     "data": {
      "text/plain": [
       "<matplotlib.text.Text at 0x117168650>"
      ]
     },
     "execution_count": 7,
     "metadata": {},
     "output_type": "execute_result"
    },
    {
     "data": {
      "image/png": "[encoded data removed]",
      "text/plain": [
       "<matplotlib.figure.Figure at 0x116fd6e10>"
      ]
     },
     "metadata": {},
     "output_type": "display_data"
    }
   ],
   "source": [
    "plt.hist(movies_reviews.runtime)\n",
    "plt.xlabel(\"Runtime\")\n",
    "plt.title(\"Distribution of Runtimes\")"
   ]
  },
  {
   "cell_type": "code",
   "execution_count": 8,
   "metadata": {
    "collapsed": false
   },
   "outputs": [
    {
     "data": {
      "text/plain": [
       "<matplotlib.text.Text at 0x117341dd0>"
      ]
     },
     "execution_count": 8,
     "metadata": {},
     "output_type": "execute_result"
    },
    {
     "data": {
      "image/png": "[encoded data removed]",
      "text/plain": [
       "<matplotlib.figure.Figure at 0x104170450>"
      ]
     },
     "metadata": {},
     "output_type": "display_data"
    }
   ],
   "source": [
    "plt.scatter(movies_reviews.num_votes, movies_reviews.review_rating)\n",
    "plt.xlabel(\"Number of Votes\")\n",
    "plt.ylabel(\"Rating\")\n",
    "plt.title(\"Votes vs. Rating\")"
   ]
  },
  {
   "cell_type": "code",
   "execution_count": 9,
   "metadata": {
    "collapsed": false
   },
   "outputs": [
    {
     "data": {
      "text/plain": [
       "<matplotlib.text.Text at 0x1176af510>"
      ]
     },
     "execution_count": 9,
     "metadata": {},
     "output_type": "execute_result"
    },
    {
     "data": {
      "image/png": "[encoded data removed]",
      "text/plain": [
       "<matplotlib.figure.Figure at 0x116bdec50>"
      ]
     },
     "metadata": {},
     "output_type": "display_data"
    }
   ],
   "source": [
    "plt.scatter(movies_reviews.runtime, movies_reviews.rating)\n",
    "plt.xlabel(\"Runtime\")\n",
    "plt.ylabel(\"Rating\")\n",
    "plt.title(\"Runtime vs. Rating\")"
   ]
  },
  {
   "cell_type": "markdown",
   "metadata": {},
   "source": [
    "---\n",
    "\n",
    "## Part 5: Decision Tree Classifiers and Regressors"
   ]
  },
  {
   "cell_type": "markdown",
   "metadata": {
    "collapsed": true
   },
   "source": [
    "#### 1. What is our target attribute? \n",
    "\n",
    "Choose a target variable for the decision tree regressor and the classifier. "
   ]
  },
  {
   "cell_type": "markdown",
   "metadata": {},
   "source": [
    "For decision tree regressor, I will predict the rating."
   ]
  },
  {
   "cell_type": "markdown",
   "metadata": {},
   "source": [
    "#### 2. Prepare the X and Y matrices and preprocess data as you see fit"
   ]
  },
  {
   "cell_type": "code",
   "execution_count": 6,
   "metadata": {
    "collapsed": true
   },
   "outputs": [],
   "source": [
    "# Create X with all vectorized columns, plus runtime, year, genres, and num_votes\n",
    "\n",
    "X = movies_reviews.drop(['Unnamed: 0', 'index', 'rating', 'tconst', 'genre', 'index.1', 'title', 'movie_id', 'review_rating'], axis = 1)"
   ]
  },
  {
   "cell_type": "code",
   "execution_count": 7,
   "metadata": {
    "collapsed": false
   },
   "outputs": [],
   "source": [
    "# Scale X\n",
    "\n",
    "from sklearn.preprocessing import StandardScaler\n",
    "\n",
    "scalar = StandardScaler()\n",
    "scalar.fit(X)\n",
    "X_scaled = scalar.transform(X)"
   ]
  },
  {
   "cell_type": "code",
   "execution_count": 8,
   "metadata": {
    "collapsed": true
   },
   "outputs": [],
   "source": [
    "# create regression target \n",
    "\n",
    "y = movies_reviews.review_rating"
   ]
  },
  {
   "cell_type": "code",
   "execution_count": 9,
   "metadata": {
    "collapsed": true
   },
   "outputs": [],
   "source": [
    "# create a target for classication\n",
    "\n",
    "y_class = y.map({1:1, 2:1, 3:1, 4:2, 5:2, 6:2, 7:2, 8:3, 9:3, 10:3})"
   ]
  },
  {
   "cell_type": "code",
   "execution_count": 16,
   "metadata": {
    "collapsed": false
   },
   "outputs": [
    {
     "data": {
      "text/plain": [
       "10.0    10814\n",
       "9.0      3970\n",
       "8.0      2010\n",
       "1.0       915\n",
       "7.0       848\n",
       "6.0       534\n",
       "5.0       428\n",
       "4.0       335\n",
       "3.0       320\n",
       "2.0       239\n",
       "Name: review_rating, dtype: int64"
      ]
     },
     "execution_count": 16,
     "metadata": {},
     "output_type": "execute_result"
    }
   ],
   "source": [
    "y.value_counts()"
   ]
  },
  {
   "cell_type": "code",
   "execution_count": 17,
   "metadata": {
    "collapsed": false
   },
   "outputs": [
    {
     "data": {
      "text/plain": [
       "3    16794\n",
       "2     2145\n",
       "1     1474\n",
       "Name: review_rating, dtype: int64"
      ]
     },
     "execution_count": 17,
     "metadata": {},
     "output_type": "execute_result"
    }
   ],
   "source": [
    "y_class.value_counts()"
   ]
  },
  {
   "cell_type": "code",
   "execution_count": 19,
   "metadata": {
    "collapsed": false
   },
   "outputs": [
    {
     "name": "stdout",
     "output_type": "stream",
     "text": [
      "(20413, 223)\n",
      "(20413,)\n",
      "(20413,)\n"
     ]
    }
   ],
   "source": [
    "print X.shape\n",
    "print y.shape\n",
    "print y_class.shape"
   ]
  },
  {
   "cell_type": "code",
   "execution_count": 18,
   "metadata": {
    "collapsed": false
   },
   "outputs": [
    {
     "data": {
      "text/html": [
       "<div>\n",
       "<table border=\"1\" class=\"dataframe\">\n",
       "  <thead>\n",
       "    <tr style=\"text-align: right;\">\n",
       "      <th></th>\n",
       "      <th>num_votes</th>\n",
       "      <th>year</th>\n",
       "      <th>runtime</th>\n",
       "      <th>Action</th>\n",
       "      <th>Adventure</th>\n",
       "      <th>Animation</th>\n",
       "      <th>Biography</th>\n",
       "      <th>Comedy</th>\n",
       "      <th>Crime</th>\n",
       "      <th>Drama</th>\n",
       "      <th>...</th>\n",
       "      <th>watched</th>\n",
       "      <th>watching</th>\n",
       "      <th>way</th>\n",
       "      <th>wife</th>\n",
       "      <th>wonderful</th>\n",
       "      <th>work</th>\n",
       "      <th>world</th>\n",
       "      <th>year.1</th>\n",
       "      <th>years</th>\n",
       "      <th>young</th>\n",
       "    </tr>\n",
       "  </thead>\n",
       "  <tbody>\n",
       "    <tr>\n",
       "      <th>0</th>\n",
       "      <td>1660702</td>\n",
       "      <td>1994</td>\n",
       "      <td>142</td>\n",
       "      <td>0.0</td>\n",
       "      <td>0.0</td>\n",
       "      <td>0.0</td>\n",
       "      <td>0.0</td>\n",
       "      <td>0.0</td>\n",
       "      <td>1.0</td>\n",
       "      <td>1.0</td>\n",
       "      <td>...</td>\n",
       "      <td>0.30572</td>\n",
       "      <td>0.000000</td>\n",
       "      <td>0.000000</td>\n",
       "      <td>0.000000</td>\n",
       "      <td>0.0</td>\n",
       "      <td>0.087107</td>\n",
       "      <td>0.000000</td>\n",
       "      <td>0.000000</td>\n",
       "      <td>0.000000</td>\n",
       "      <td>0.000000</td>\n",
       "    </tr>\n",
       "    <tr>\n",
       "      <th>1</th>\n",
       "      <td>1660702</td>\n",
       "      <td>1994</td>\n",
       "      <td>142</td>\n",
       "      <td>0.0</td>\n",
       "      <td>0.0</td>\n",
       "      <td>0.0</td>\n",
       "      <td>0.0</td>\n",
       "      <td>0.0</td>\n",
       "      <td>1.0</td>\n",
       "      <td>1.0</td>\n",
       "      <td>...</td>\n",
       "      <td>0.00000</td>\n",
       "      <td>0.000000</td>\n",
       "      <td>0.044561</td>\n",
       "      <td>0.073825</td>\n",
       "      <td>0.0</td>\n",
       "      <td>0.168731</td>\n",
       "      <td>0.106523</td>\n",
       "      <td>0.000000</td>\n",
       "      <td>0.000000</td>\n",
       "      <td>0.063477</td>\n",
       "    </tr>\n",
       "    <tr>\n",
       "      <th>2</th>\n",
       "      <td>1660702</td>\n",
       "      <td>1994</td>\n",
       "      <td>142</td>\n",
       "      <td>0.0</td>\n",
       "      <td>0.0</td>\n",
       "      <td>0.0</td>\n",
       "      <td>0.0</td>\n",
       "      <td>0.0</td>\n",
       "      <td>1.0</td>\n",
       "      <td>1.0</td>\n",
       "      <td>...</td>\n",
       "      <td>0.00000</td>\n",
       "      <td>0.068454</td>\n",
       "      <td>0.000000</td>\n",
       "      <td>0.000000</td>\n",
       "      <td>0.0</td>\n",
       "      <td>0.000000</td>\n",
       "      <td>0.129971</td>\n",
       "      <td>0.087628</td>\n",
       "      <td>0.065314</td>\n",
       "      <td>0.000000</td>\n",
       "    </tr>\n",
       "    <tr>\n",
       "      <th>3</th>\n",
       "      <td>1660702</td>\n",
       "      <td>1994</td>\n",
       "      <td>142</td>\n",
       "      <td>0.0</td>\n",
       "      <td>0.0</td>\n",
       "      <td>0.0</td>\n",
       "      <td>0.0</td>\n",
       "      <td>0.0</td>\n",
       "      <td>1.0</td>\n",
       "      <td>1.0</td>\n",
       "      <td>...</td>\n",
       "      <td>0.00000</td>\n",
       "      <td>0.145045</td>\n",
       "      <td>0.115203</td>\n",
       "      <td>0.190859</td>\n",
       "      <td>0.0</td>\n",
       "      <td>0.000000</td>\n",
       "      <td>0.000000</td>\n",
       "      <td>0.000000</td>\n",
       "      <td>0.000000</td>\n",
       "      <td>0.000000</td>\n",
       "    </tr>\n",
       "    <tr>\n",
       "      <th>4</th>\n",
       "      <td>1660702</td>\n",
       "      <td>1994</td>\n",
       "      <td>142</td>\n",
       "      <td>0.0</td>\n",
       "      <td>0.0</td>\n",
       "      <td>0.0</td>\n",
       "      <td>0.0</td>\n",
       "      <td>0.0</td>\n",
       "      <td>1.0</td>\n",
       "      <td>1.0</td>\n",
       "      <td>...</td>\n",
       "      <td>0.00000</td>\n",
       "      <td>0.000000</td>\n",
       "      <td>0.000000</td>\n",
       "      <td>0.000000</td>\n",
       "      <td>0.0</td>\n",
       "      <td>0.000000</td>\n",
       "      <td>0.000000</td>\n",
       "      <td>0.000000</td>\n",
       "      <td>0.000000</td>\n",
       "      <td>0.000000</td>\n",
       "    </tr>\n",
       "  </tbody>\n",
       "</table>\n",
       "<p>5 rows × 223 columns</p>\n",
       "</div>"
      ],
      "text/plain": [
       "   num_votes  year  runtime  Action  Adventure  Animation  Biography  Comedy  \\\n",
       "0    1660702  1994      142     0.0        0.0        0.0        0.0     0.0   \n",
       "1    1660702  1994      142     0.0        0.0        0.0        0.0     0.0   \n",
       "2    1660702  1994      142     0.0        0.0        0.0        0.0     0.0   \n",
       "3    1660702  1994      142     0.0        0.0        0.0        0.0     0.0   \n",
       "4    1660702  1994      142     0.0        0.0        0.0        0.0     0.0   \n",
       "\n",
       "   Crime  Drama    ...     watched  watching       way      wife  wonderful  \\\n",
       "0    1.0    1.0    ...     0.30572  0.000000  0.000000  0.000000        0.0   \n",
       "1    1.0    1.0    ...     0.00000  0.000000  0.044561  0.073825        0.0   \n",
       "2    1.0    1.0    ...     0.00000  0.068454  0.000000  0.000000        0.0   \n",
       "3    1.0    1.0    ...     0.00000  0.145045  0.115203  0.190859        0.0   \n",
       "4    1.0    1.0    ...     0.00000  0.000000  0.000000  0.000000        0.0   \n",
       "\n",
       "       work     world    year.1     years     young  \n",
       "0  0.087107  0.000000  0.000000  0.000000  0.000000  \n",
       "1  0.168731  0.106523  0.000000  0.000000  0.063477  \n",
       "2  0.000000  0.129971  0.087628  0.065314  0.000000  \n",
       "3  0.000000  0.000000  0.000000  0.000000  0.000000  \n",
       "4  0.000000  0.000000  0.000000  0.000000  0.000000  \n",
       "\n",
       "[5 rows x 223 columns]"
      ]
     },
     "execution_count": 18,
     "metadata": {},
     "output_type": "execute_result"
    }
   ],
   "source": [
    "X.head()"
   ]
  },
  {
   "cell_type": "markdown",
   "metadata": {},
   "source": [
    "*__To recap:__ our feature matrix X contains 20,000 rows and 223 columns. Each row represents a separate review and the columns are our features. I plan on predicting review rating based on a combination of text data and movie attributes.*"
   ]
  },
  {
   "cell_type": "code",
   "execution_count": 130,
   "metadata": {
    "collapsed": false
   },
   "outputs": [
    {
     "data": {
      "text/plain": [
       "50"
      ]
     },
     "execution_count": 130,
     "metadata": {},
     "output_type": "execute_result"
    }
   ],
   "source": [
    "len(X.columns)"
   ]
  },
  {
   "cell_type": "markdown",
   "metadata": {},
   "source": [
    "#### 3. Build and cross-validate your decision tree classifier"
   ]
  },
  {
   "cell_type": "code",
   "execution_count": 10,
   "metadata": {
    "collapsed": true
   },
   "outputs": [],
   "source": [
    "# Import cross_val_score and DecisionTreeClassifier\n",
    "\n",
    "from sklearn.cross_validation import cross_val_score\n",
    "from sklearn.tree import DecisionTreeClassifier"
   ]
  },
  {
   "cell_type": "code",
   "execution_count": 11,
   "metadata": {
    "collapsed": true
   },
   "outputs": [],
   "source": [
    "# instantiate Decision Tree Classifier\n",
    "\n",
    "dtc = DecisionTreeClassifier()"
   ]
  },
  {
   "cell_type": "code",
   "execution_count": 12,
   "metadata": {
    "collapsed": false
   },
   "outputs": [
    {
     "data": {
      "text/plain": [
       "DecisionTreeClassifier(class_weight=None, criterion='gini', max_depth=None,\n",
       "            max_features=None, max_leaf_nodes=None, min_samples_leaf=1,\n",
       "            min_samples_split=2, min_weight_fraction_leaf=0.0,\n",
       "            presort=False, random_state=None, splitter='best')"
      ]
     },
     "execution_count": 12,
     "metadata": {},
     "output_type": "execute_result"
    }
   ],
   "source": [
    "# Fit on y_class, which is the binned ratings\n",
    "\n",
    "dtc.fit(X,y_class)"
   ]
  },
  {
   "cell_type": "code",
   "execution_count": 13,
   "metadata": {
    "collapsed": false
   },
   "outputs": [],
   "source": [
    "scores = cross_val_score(dtc, X, y_class, cv = 10, scoring='accuracy')"
   ]
  },
  {
   "cell_type": "code",
   "execution_count": 21,
   "metadata": {
    "collapsed": false
   },
   "outputs": [
    {
     "name": "stdout",
     "output_type": "stream",
     "text": [
      "Cross-validation mean accuracy score:\n",
      "0.589696815361\n"
     ]
    }
   ],
   "source": [
    "# Mean accuracy score for 10 folds\n",
    "print \"Cross-validation mean accuracy score:\"\n",
    "print scores.mean()"
   ]
  },
  {
   "cell_type": "markdown",
   "metadata": {},
   "source": [
    "#### 4. Gridsearch optimal parameters for your classifier. Does the performance improve?"
   ]
  },
  {
   "cell_type": "code",
   "execution_count": 19,
   "metadata": {
    "collapsed": true
   },
   "outputs": [],
   "source": [
    "Parameters = {'max_depth':range(1,10), 'max_features':[5,10,20,30,50,100,150,200]}\n",
    "\n",
    "Scoring = 'accuracy'"
   ]
  },
  {
   "cell_type": "code",
   "execution_count": 20,
   "metadata": {
    "collapsed": false
   },
   "outputs": [
    {
     "name": "stdout",
     "output_type": "stream",
     "text": [
      "Fitting 3 folds for each of 72 candidates, totalling 216 fits\n"
     ]
    },
    {
     "name": "stderr",
     "output_type": "stream",
     "text": [
      "[Parallel(n_jobs=-1)]: Done  42 tasks      | elapsed:    3.1s\n",
      "[Parallel(n_jobs=-1)]: Done 192 tasks      | elapsed:   17.1s\n",
      "[Parallel(n_jobs=-1)]: Done 216 out of 216 | elapsed:   19.6s finished\n"
     ]
    },
    {
     "name": "stdout",
     "output_type": "stream",
     "text": [
      "DecisionTreeClassifier(class_weight=None, criterion='gini', max_depth=4,\n",
      "            max_features=50, max_leaf_nodes=None, min_samples_leaf=1,\n",
      "            min_samples_split=2, min_weight_fraction_leaf=0.0,\n",
      "            presort=False, random_state=None, splitter='best')\n",
      "0.829030519767\n"
     ]
    }
   ],
   "source": [
    "#Grid Search\n",
    "\n",
    "from sklearn.grid_search import GridSearchCV\n",
    "\n",
    "model = DecisionTreeClassifier()\n",
    "clf = GridSearchCV(model, Parameters, scoring=Scoring, verbose=True, n_jobs=-1)\n",
    "clf.fit(X, y_class)\n",
    "\n",
    "#After completion, show the final best results and scores\n",
    "print clf.best_estimator_\n",
    "print clf.best_score_\n",
    "# print np.sqrt(-clf.best_score_)"
   ]
  },
  {
   "cell_type": "markdown",
   "metadata": {
    "collapsed": true
   },
   "source": [
    "### Interpretation:\n",
    "#### The performance improved immensly post gridsearch: from 58% to 83% accuracy!\n",
    "However gridsearchCV may be overfitting the decision tree classifier, so caution is warranted.\n",
    "\n",
    "It's also important to note that I binned my target into three categories:\n",
    "- low score: 1-3\n",
    "- medium score: 4-7\n",
    "- high score: 8-10\n",
    "\n",
    "This binning makes intuitive sense and will also improve the performance of my classifier."
   ]
  },
  {
   "cell_type": "markdown",
   "metadata": {},
   "source": [
    "#### 5. Build and cross-validate your decision tree regressor"
   ]
  },
  {
   "cell_type": "code",
   "execution_count": 22,
   "metadata": {
    "collapsed": false
   },
   "outputs": [],
   "source": [
    "from sklearn.tree import DecisionTreeRegressor"
   ]
  },
  {
   "cell_type": "code",
   "execution_count": 23,
   "metadata": {
    "collapsed": true
   },
   "outputs": [],
   "source": [
    "dtr = DecisionTreeRegressor()"
   ]
  },
  {
   "cell_type": "code",
   "execution_count": 24,
   "metadata": {
    "collapsed": true
   },
   "outputs": [],
   "source": [
    "scores = cross_val_score(dtr, X, y, cv = 10, scoring = 'mean_squared_error')"
   ]
  },
  {
   "cell_type": "code",
   "execution_count": 25,
   "metadata": {
    "collapsed": false
   },
   "outputs": [
    {
     "name": "stdout",
     "output_type": "stream",
     "text": [
      "Mean cross-val score (MSE):\n",
      "[ -9.02840353  -8.45837414  -7.75146915 -12.33917197  -6.42283195\n",
      "  -8.61538462  -7.73799608  -9.48652621  -8.70063694  -8.95982362]\n"
     ]
    }
   ],
   "source": [
    "print \"Mean cross-val score (MSE):\"\n",
    "print scores"
   ]
  },
  {
   "cell_type": "markdown",
   "metadata": {},
   "source": [
    "#### 6. Gridsearch the optimal parameters for your regressor. Does performance improve?"
   ]
  },
  {
   "cell_type": "markdown",
   "metadata": {},
   "source": [
    "### Note:\n",
    "#### *I chose not to complete the Decision Tree Regressor due to an issue that arose with the MSE outputting negative values.*"
   ]
  },
  {
   "cell_type": "markdown",
   "metadata": {},
   "source": [
    "---\n",
    "\n",
    "## Part 6: Elastic Net\n"
   ]
  },
  {
   "cell_type": "markdown",
   "metadata": {},
   "source": [
    "#### 1. Gridsearch optimal parameters for an ElasticNet using the regression target and predictors you used for the decision tree regressor.\n"
   ]
  },
  {
   "cell_type": "code",
   "execution_count": null,
   "metadata": {
    "collapsed": true
   },
   "outputs": [],
   "source": []
  },
  {
   "cell_type": "markdown",
   "metadata": {},
   "source": [
    "#### 2. Is cross-validated performance better or worse than with the decision trees? "
   ]
  },
  {
   "cell_type": "code",
   "execution_count": null,
   "metadata": {
    "collapsed": true
   },
   "outputs": [],
   "source": []
  },
  {
   "cell_type": "markdown",
   "metadata": {},
   "source": [
    "#### 3. Explain why the elastic net may have performed best at that particular l1_ratio and alpha"
   ]
  },
  {
   "cell_type": "code",
   "execution_count": null,
   "metadata": {
    "collapsed": true
   },
   "outputs": [],
   "source": []
  },
  {
   "cell_type": "markdown",
   "metadata": {},
   "source": [
    "---\n",
    "\n",
    "## Part 7: Bagging and Boosting: Random Forests, Extra Trees, and AdaBoost"
   ]
  },
  {
   "cell_type": "markdown",
   "metadata": {},
   "source": [
    "#### 1. Load the random forest regressor, extra trees regressor, and adaboost regressor from sklearn"
   ]
  },
  {
   "cell_type": "markdown",
   "metadata": {},
   "source": [
    "#### *Note: I feel that a classification approach is ideal in this case, so I will proceed with classifiers in this section, rather than regressors.*"
   ]
  },
  {
   "cell_type": "code",
   "execution_count": 26,
   "metadata": {
    "collapsed": true
   },
   "outputs": [],
   "source": [
    "from sklearn.ensemble import BaggingClassifier\n",
    "from sklearn.ensemble import RandomForestClassifier\n",
    "from sklearn.ensemble import ExtraTreesClassifier"
   ]
  },
  {
   "cell_type": "code",
   "execution_count": 27,
   "metadata": {
    "collapsed": true
   },
   "outputs": [],
   "source": [
    "from sklearn.ensemble import AdaBoostClassifier"
   ]
  },
  {
   "cell_type": "markdown",
   "metadata": {},
   "source": [
    "#### 2. Gridsearch optimal parameters for the three different ensemble methods."
   ]
  },
  {
   "cell_type": "code",
   "execution_count": 30,
   "metadata": {
    "collapsed": true
   },
   "outputs": [],
   "source": [
    "# Instantiate Random Forest Classifier\n",
    "\n",
    "rfclass = RandomForestClassifier()"
   ]
  },
  {
   "cell_type": "code",
   "execution_count": 31,
   "metadata": {
    "collapsed": true
   },
   "outputs": [],
   "source": [
    "params = {'n_estimators':[5, 10, 50, 100],\n",
    "          'criterion': ['gini', 'entropy'],\n",
    "          'max_depth': [3, 5, 7, 9],\n",
    "          'min_samples_split': [2,5],\n",
    "          'class_weight':[None, 'balanced']}"
   ]
  },
  {
   "cell_type": "code",
   "execution_count": 35,
   "metadata": {
    "collapsed": false
   },
   "outputs": [],
   "source": [
    "gsrf = GridSearchCV(RandomForestClassifier(n_jobs=-1),\n",
    "                    params, n_jobs=-1,\n",
    "                    cv=10)"
   ]
  },
  {
   "cell_type": "code",
   "execution_count": 37,
   "metadata": {
    "collapsed": false
   },
   "outputs": [
    {
     "name": "stdout",
     "output_type": "stream",
     "text": [
      "{'min_samples_split': 2, 'n_estimators': 5, 'criterion': 'entropy', 'max_depth': 9, 'class_weight': None}\n",
      "0.827168960956\n"
     ]
    }
   ],
   "source": [
    "gsrf.fit(X, y_class)\n",
    "print gsrf.best_params_\n",
    "print gsrf.best_score_"
   ]
  },
  {
   "cell_type": "markdown",
   "metadata": {},
   "source": [
    "## Note:\n",
    "### *Due to the computational strain these gridsearches placed on my machine, I was unable to complete the remaining tasks. Please see my markdown document for a discussion of the findings from this analysis, up to this stage.*"
   ]
  },
  {
   "cell_type": "markdown",
   "metadata": {},
   "source": [
    "#### 3. Evaluate the performance of the two bagging and one boosting model. Which performs best?"
   ]
  },
  {
   "cell_type": "code",
   "execution_count": null,
   "metadata": {
    "collapsed": true
   },
   "outputs": [],
   "source": []
  },
  {
   "cell_type": "markdown",
   "metadata": {},
   "source": [
    "#### 4. Extract the feature importances from the Random Forest regressor and make a DataFrame pairing variable names with their variable importances."
   ]
  },
  {
   "cell_type": "code",
   "execution_count": null,
   "metadata": {
    "collapsed": true
   },
   "outputs": [],
   "source": []
  },
  {
   "cell_type": "markdown",
   "metadata": {},
   "source": [
    "#### 5. Plot the ranked feature importances."
   ]
  },
  {
   "cell_type": "code",
   "execution_count": null,
   "metadata": {
    "collapsed": true
   },
   "outputs": [],
   "source": []
  },
  {
   "cell_type": "markdown",
   "metadata": {},
   "source": [
    "#### 6.1 [BONUS] Gridsearch an optimal Lasso model and use it for variable selection (make a new predictor matrix with only the variables not zeroed out by the Lasso). "
   ]
  },
  {
   "cell_type": "code",
   "execution_count": null,
   "metadata": {
    "collapsed": true
   },
   "outputs": [],
   "source": []
  },
  {
   "cell_type": "markdown",
   "metadata": {},
   "source": [
    "#### 6.2 [BONUS] Gridsearch your best performing bagging/boosting model from above with the features retained after the Lasso. Does the score improve?"
   ]
  },
  {
   "cell_type": "code",
   "execution_count": null,
   "metadata": {
    "collapsed": true
   },
   "outputs": [],
   "source": []
  },
  {
   "cell_type": "markdown",
   "metadata": {},
   "source": [
    "#### 7.1. [BONUS] Select a threshold for variable importance from your Random Forest regressor and use that to perform feature selection, creating a new subset predictor matrix."
   ]
  },
  {
   "cell_type": "code",
   "execution_count": null,
   "metadata": {
    "collapsed": true
   },
   "outputs": [],
   "source": []
  },
  {
   "cell_type": "markdown",
   "metadata": {},
   "source": [
    "#### 7.2 [BONUS] Using BaggingRegressor with a base estimator of your choice, test a model using the feature-selected dataset you made in 7.1"
   ]
  },
  {
   "cell_type": "code",
   "execution_count": null,
   "metadata": {
    "collapsed": true
   },
   "outputs": [],
   "source": []
  },
  {
   "cell_type": "markdown",
   "metadata": {},
   "source": [
    "---\n",
    "\n",
    "## [VERY BONUS] Part 8: PCA"
   ]
  },
  {
   "cell_type": "markdown",
   "metadata": {},
   "source": [
    "#### 1. Perform a PCA on your predictor matrix"
   ]
  },
  {
   "cell_type": "code",
   "execution_count": null,
   "metadata": {
    "collapsed": true
   },
   "outputs": [],
   "source": []
  },
  {
   "cell_type": "markdown",
   "metadata": {},
   "source": [
    "#### 2. Examine the variance explained and determine what components you want to keep based on them."
   ]
  },
  {
   "cell_type": "code",
   "execution_count": null,
   "metadata": {
    "collapsed": true
   },
   "outputs": [],
   "source": []
  },
  {
   "cell_type": "markdown",
   "metadata": {},
   "source": [
    "#### 3. Plot the cumulative variance explained by the ordered principal components."
   ]
  },
  {
   "cell_type": "code",
   "execution_count": null,
   "metadata": {
    "collapsed": true
   },
   "outputs": [],
   "source": []
  },
  {
   "cell_type": "markdown",
   "metadata": {},
   "source": [
    "#### 4. Gridsearch an elastic net using the principal components you selected as your predictors. Does this perform better than the elastic net you fit earlier?"
   ]
  },
  {
   "cell_type": "code",
   "execution_count": null,
   "metadata": {
    "collapsed": true
   },
   "outputs": [],
   "source": []
  },
  {
   "cell_type": "markdown",
   "metadata": {},
   "source": [
    "#### 5. Gridsearch a bagging ensemble estimator that you fit before, this time using the principal components as predictors. Does this perform better or worse than the original? "
   ]
  },
  {
   "cell_type": "code",
   "execution_count": null,
   "metadata": {
    "collapsed": true
   },
   "outputs": [],
   "source": []
  },
  {
   "cell_type": "markdown",
   "metadata": {},
   "source": [
    "#### 6. Look at the loadings of the original predictor columns on the first 3 principal components. Is there any kind of intuitive meaning here?\n",
    "\n",
    "Hint, you will probably want to sort by absolute value of magnitude of loading, and also only look at the obviously important (larger) ones!"
   ]
  },
  {
   "cell_type": "code",
   "execution_count": null,
   "metadata": {
    "collapsed": true
   },
   "outputs": [],
   "source": []
  },
  {
   "cell_type": "markdown",
   "metadata": {},
   "source": [
    "# [Extremely Bonus] Part 9:  Clustering\n",
    "\n",
    "![](https://snag.gy/jPSZ6U.jpg)\n",
    "\n",
    " ***Bonus Bonus:***\n",
    "This extended bonus question is asking to do something we never really talked about but would like for you to attempt based on the assumptions that we learned during this weeks clustering lesson(s)."
   ]
  },
  {
   "cell_type": "markdown",
   "metadata": {},
   "source": [
    "#### 1. Import your favorite clustering module"
   ]
  },
  {
   "cell_type": "code",
   "execution_count": null,
   "metadata": {
    "collapsed": true
   },
   "outputs": [],
   "source": []
  },
  {
   "cell_type": "markdown",
   "metadata": {},
   "source": [
    "#### 2. Encode categoricals"
   ]
  },
  {
   "cell_type": "code",
   "execution_count": null,
   "metadata": {
    "collapsed": true
   },
   "outputs": [],
   "source": []
  },
  {
   "cell_type": "markdown",
   "metadata": {},
   "source": [
    "#### 3. Evaluate cluster metics solely based on a range of K\n",
    "If K-Means:  SSE/Inertia vs Silhouette (ie: Elbow), silhouette average, etc"
   ]
  },
  {
   "cell_type": "code",
   "execution_count": null,
   "metadata": {
    "collapsed": true
   },
   "outputs": [],
   "source": []
  },
  {
   "cell_type": "markdown",
   "metadata": {},
   "source": [
    "#### 4.  Look at your data based on the subset of your predicted clusters.\n",
    "Assign the cluster predictions back to your dataframe in order to see them in context.  This is great to be able to group by cluster to get a sense of the data that clumped together."
   ]
  },
  {
   "cell_type": "code",
   "execution_count": null,
   "metadata": {
    "collapsed": true
   },
   "outputs": [],
   "source": []
  },
  {
   "cell_type": "markdown",
   "metadata": {},
   "source": [
    "#### 5. Describe your findings based on the predicted clusters \n",
    "_How well did it do?  What's good or bad?  How would you improve this? Does any of it make sense?_"
   ]
  },
  {
   "cell_type": "code",
   "execution_count": null,
   "metadata": {
    "collapsed": true
   },
   "outputs": [],
   "source": []
  }
 ],
 "metadata": {
  "kernelspec": {
   "display_name": "Python 2",
   "language": "python",
   "name": "python2"
  },
  "language_info": {
   "codemirror_mode": {
    "name": "ipython",
    "version": 2
   },
   "file_extension": ".py",
   "mimetype": "text/x-python",
   "name": "python",
   "nbconvert_exporter": "python",
   "pygments_lexer": "ipython2",
   "version": "2.7.11"
  },
  "widgets": {
   "state": {},
   "version": "1.1.0"
  }
 },
 "nbformat": 4,
 "nbformat_minor": 0
}
